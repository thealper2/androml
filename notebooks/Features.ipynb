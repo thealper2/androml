{
 "cells": [
  {
   "cell_type": "code",
   "execution_count": 21,
   "id": "6cbd0dde-feb7-4298-8821-d4e0df9a236c",
   "metadata": {},
   "outputs": [],
   "source": [
    "import numpy as np\n",
    "import pandas as pd\n",
    "import re\n",
    "from androguard.core.bytecodes.apk import APK\n",
    "from androguard.core.bytecodes.dvm import DalvikVMFormat\n",
    "from androguard.misc import AnalyzeAPK"
   ]
  },
  {
   "cell_type": "code",
   "execution_count": 2,
   "id": "e0291651-87d3-480d-8fd7-3a3ca1547fe4",
   "metadata": {},
   "outputs": [
    {
     "data": {
      "text/html": [
       "<div>\n",
       "<style scoped>\n",
       "    .dataframe tbody tr th:only-of-type {\n",
       "        vertical-align: middle;\n",
       "    }\n",
       "\n",
       "    .dataframe tbody tr th {\n",
       "        vertical-align: top;\n",
       "    }\n",
       "\n",
       "    .dataframe thead th {\n",
       "        text-align: right;\n",
       "    }\n",
       "</style>\n",
       "<table border=\"1\" class=\"dataframe\">\n",
       "  <thead>\n",
       "    <tr style=\"text-align: right;\">\n",
       "      <th></th>\n",
       "      <th>X</th>\n",
       "      <th>Category</th>\n",
       "    </tr>\n",
       "  </thead>\n",
       "  <tbody>\n",
       "    <tr>\n",
       "      <th>0</th>\n",
       "      <td>transact</td>\n",
       "      <td>API call signature</td>\n",
       "    </tr>\n",
       "    <tr>\n",
       "      <th>1</th>\n",
       "      <td>onServiceConnected</td>\n",
       "      <td>API call signature</td>\n",
       "    </tr>\n",
       "    <tr>\n",
       "      <th>2</th>\n",
       "      <td>bindService</td>\n",
       "      <td>API call signature</td>\n",
       "    </tr>\n",
       "    <tr>\n",
       "      <th>3</th>\n",
       "      <td>attachInterface</td>\n",
       "      <td>API call signature</td>\n",
       "    </tr>\n",
       "    <tr>\n",
       "      <th>4</th>\n",
       "      <td>ServiceConnection</td>\n",
       "      <td>API call signature</td>\n",
       "    </tr>\n",
       "  </tbody>\n",
       "</table>\n",
       "</div>"
      ],
      "text/plain": [
       "                    X            Category\n",
       "0            transact  API call signature\n",
       "1  onServiceConnected  API call signature\n",
       "2         bindService  API call signature\n",
       "3     attachInterface  API call signature\n",
       "4   ServiceConnection  API call signature"
      ]
     },
     "execution_count": 2,
     "metadata": {},
     "output_type": "execute_result"
    }
   ],
   "source": [
    "features = pd.read_csv(\"../dataset/dataset-features-categories.csv\", names=[\"X\", \"Category\"])\n",
    "features.head()"
   ]
  },
  {
   "cell_type": "code",
   "execution_count": 3,
   "id": "f611c2d7-7c66-41cd-9c27-ce087f9ebfa4",
   "metadata": {},
   "outputs": [
    {
     "data": {
      "text/plain": [
       "Manifest Permission    113\n",
       "API call signature      73\n",
       "Intent                  23\n",
       "Commands signature       6\n",
       "B=Benign; S=Malware      1\n",
       "Name: Category, dtype: int64"
      ]
     },
     "execution_count": 3,
     "metadata": {},
     "output_type": "execute_result"
    }
   ],
   "source": [
    "features[\"Category\"].value_counts()"
   ]
  },
  {
   "cell_type": "code",
   "execution_count": 4,
   "id": "0c13e8a3-b4d0-4f44-afdc-1d06b56b9fe5",
   "metadata": {},
   "outputs": [
    {
     "data": {
      "text/html": [
       "<div>\n",
       "<style scoped>\n",
       "    .dataframe tbody tr th:only-of-type {\n",
       "        vertical-align: middle;\n",
       "    }\n",
       "\n",
       "    .dataframe tbody tr th {\n",
       "        vertical-align: top;\n",
       "    }\n",
       "\n",
       "    .dataframe thead th {\n",
       "        text-align: right;\n",
       "    }\n",
       "</style>\n",
       "<table border=\"1\" class=\"dataframe\">\n",
       "  <thead>\n",
       "    <tr style=\"text-align: right;\">\n",
       "      <th></th>\n",
       "      <th>X</th>\n",
       "      <th>Category</th>\n",
       "    </tr>\n",
       "  </thead>\n",
       "  <tbody>\n",
       "    <tr>\n",
       "      <th>0</th>\n",
       "      <td>transact</td>\n",
       "      <td>API call signature</td>\n",
       "    </tr>\n",
       "    <tr>\n",
       "      <th>1</th>\n",
       "      <td>onServiceConnected</td>\n",
       "      <td>API call signature</td>\n",
       "    </tr>\n",
       "    <tr>\n",
       "      <th>2</th>\n",
       "      <td>bindService</td>\n",
       "      <td>API call signature</td>\n",
       "    </tr>\n",
       "    <tr>\n",
       "      <th>3</th>\n",
       "      <td>attachInterface</td>\n",
       "      <td>API call signature</td>\n",
       "    </tr>\n",
       "    <tr>\n",
       "      <th>4</th>\n",
       "      <td>ServiceConnection</td>\n",
       "      <td>API call signature</td>\n",
       "    </tr>\n",
       "    <tr>\n",
       "      <th>...</th>\n",
       "      <td>...</td>\n",
       "      <td>...</td>\n",
       "    </tr>\n",
       "    <tr>\n",
       "      <th>167</th>\n",
       "      <td>ProcessBuilder</td>\n",
       "      <td>API call signature</td>\n",
       "    </tr>\n",
       "    <tr>\n",
       "      <th>171</th>\n",
       "      <td>Ljava.lang.Class.getResource</td>\n",
       "      <td>API call signature</td>\n",
       "    </tr>\n",
       "    <tr>\n",
       "      <th>172</th>\n",
       "      <td>defineClass</td>\n",
       "      <td>API call signature</td>\n",
       "    </tr>\n",
       "    <tr>\n",
       "      <th>180</th>\n",
       "      <td>findClass</td>\n",
       "      <td>API call signature</td>\n",
       "    </tr>\n",
       "    <tr>\n",
       "      <th>190</th>\n",
       "      <td>Runtime.loadLibrary</td>\n",
       "      <td>API call signature</td>\n",
       "    </tr>\n",
       "  </tbody>\n",
       "</table>\n",
       "<p>73 rows × 2 columns</p>\n",
       "</div>"
      ],
      "text/plain": [
       "                                X            Category\n",
       "0                        transact  API call signature\n",
       "1              onServiceConnected  API call signature\n",
       "2                     bindService  API call signature\n",
       "3                 attachInterface  API call signature\n",
       "4               ServiceConnection  API call signature\n",
       "..                            ...                 ...\n",
       "167                ProcessBuilder  API call signature\n",
       "171  Ljava.lang.Class.getResource  API call signature\n",
       "172                   defineClass  API call signature\n",
       "180                     findClass  API call signature\n",
       "190           Runtime.loadLibrary  API call signature\n",
       "\n",
       "[73 rows x 2 columns]"
      ]
     },
     "execution_count": 4,
     "metadata": {},
     "output_type": "execute_result"
    }
   ],
   "source": [
    "features[features[\"Category\"] == \"API call signature\"]"
   ]
  },
  {
   "cell_type": "code",
   "execution_count": 5,
   "id": "95b8af35-f897-4419-91f4-da02c102b41d",
   "metadata": {},
   "outputs": [
    {
     "data": {
      "text/html": [
       "<div>\n",
       "<style scoped>\n",
       "    .dataframe tbody tr th:only-of-type {\n",
       "        vertical-align: middle;\n",
       "    }\n",
       "\n",
       "    .dataframe tbody tr th {\n",
       "        vertical-align: top;\n",
       "    }\n",
       "\n",
       "    .dataframe thead th {\n",
       "        text-align: right;\n",
       "    }\n",
       "</style>\n",
       "<table border=\"1\" class=\"dataframe\">\n",
       "  <thead>\n",
       "    <tr style=\"text-align: right;\">\n",
       "      <th></th>\n",
       "      <th>X</th>\n",
       "      <th>Category</th>\n",
       "    </tr>\n",
       "  </thead>\n",
       "  <tbody>\n",
       "    <tr>\n",
       "      <th>25</th>\n",
       "      <td>android.intent.action.BOOT_COMPLETED</td>\n",
       "      <td>Intent</td>\n",
       "    </tr>\n",
       "    <tr>\n",
       "      <th>53</th>\n",
       "      <td>android.intent.action.PACKAGE_REPLACED</td>\n",
       "      <td>Intent</td>\n",
       "    </tr>\n",
       "    <tr>\n",
       "      <th>55</th>\n",
       "      <td>android.intent.action.SEND_MULTIPLE</td>\n",
       "      <td>Intent</td>\n",
       "    </tr>\n",
       "    <tr>\n",
       "      <th>66</th>\n",
       "      <td>android.intent.action.TIME_SET</td>\n",
       "      <td>Intent</td>\n",
       "    </tr>\n",
       "    <tr>\n",
       "      <th>73</th>\n",
       "      <td>android.intent.action.PACKAGE_REMOVED</td>\n",
       "      <td>Intent</td>\n",
       "    </tr>\n",
       "    <tr>\n",
       "      <th>74</th>\n",
       "      <td>android.intent.action.TIMEZONE_CHANGED</td>\n",
       "      <td>Intent</td>\n",
       "    </tr>\n",
       "    <tr>\n",
       "      <th>81</th>\n",
       "      <td>android.intent.action.ACTION_POWER_DISCONNECTED</td>\n",
       "      <td>Intent</td>\n",
       "    </tr>\n",
       "    <tr>\n",
       "      <th>82</th>\n",
       "      <td>android.intent.action.PACKAGE_ADDED</td>\n",
       "      <td>Intent</td>\n",
       "    </tr>\n",
       "    <tr>\n",
       "      <th>97</th>\n",
       "      <td>android.intent.action.ACTION_SHUTDOWN</td>\n",
       "      <td>Intent</td>\n",
       "    </tr>\n",
       "    <tr>\n",
       "      <th>107</th>\n",
       "      <td>android.intent.action.PACKAGE_DATA_CLEARED</td>\n",
       "      <td>Intent</td>\n",
       "    </tr>\n",
       "    <tr>\n",
       "      <th>117</th>\n",
       "      <td>android.intent.action.PACKAGE_CHANGED</td>\n",
       "      <td>Intent</td>\n",
       "    </tr>\n",
       "    <tr>\n",
       "      <th>118</th>\n",
       "      <td>android.intent.action.NEW_OUTGOING_CALL</td>\n",
       "      <td>Intent</td>\n",
       "    </tr>\n",
       "    <tr>\n",
       "      <th>135</th>\n",
       "      <td>android.intent.action.SENDTO</td>\n",
       "      <td>Intent</td>\n",
       "    </tr>\n",
       "    <tr>\n",
       "      <th>150</th>\n",
       "      <td>android.intent.action.CALL</td>\n",
       "      <td>Intent</td>\n",
       "    </tr>\n",
       "    <tr>\n",
       "      <th>157</th>\n",
       "      <td>android.intent.action.SCREEN_ON</td>\n",
       "      <td>Intent</td>\n",
       "    </tr>\n",
       "    <tr>\n",
       "      <th>161</th>\n",
       "      <td>android.intent.action.BATTERY_OKAY</td>\n",
       "      <td>Intent</td>\n",
       "    </tr>\n",
       "    <tr>\n",
       "      <th>174</th>\n",
       "      <td>android.intent.action.PACKAGE_RESTARTED</td>\n",
       "      <td>Intent</td>\n",
       "    </tr>\n",
       "    <tr>\n",
       "      <th>178</th>\n",
       "      <td>android.intent.action.CALL_BUTTON</td>\n",
       "      <td>Intent</td>\n",
       "    </tr>\n",
       "    <tr>\n",
       "      <th>179</th>\n",
       "      <td>android.intent.action.SCREEN_OFF</td>\n",
       "      <td>Intent</td>\n",
       "    </tr>\n",
       "    <tr>\n",
       "      <th>185</th>\n",
       "      <td>intent.action.RUN</td>\n",
       "      <td>Intent</td>\n",
       "    </tr>\n",
       "    <tr>\n",
       "      <th>186</th>\n",
       "      <td>android.intent.action.SET_WALLPAPER</td>\n",
       "      <td>Intent</td>\n",
       "    </tr>\n",
       "    <tr>\n",
       "      <th>194</th>\n",
       "      <td>android.intent.action.BATTERY_LOW</td>\n",
       "      <td>Intent</td>\n",
       "    </tr>\n",
       "    <tr>\n",
       "      <th>197</th>\n",
       "      <td>android.intent.action.ACTION_POWER_CONNECTED</td>\n",
       "      <td>Intent</td>\n",
       "    </tr>\n",
       "  </tbody>\n",
       "</table>\n",
       "</div>"
      ],
      "text/plain": [
       "                                                   X Category\n",
       "25              android.intent.action.BOOT_COMPLETED   Intent\n",
       "53            android.intent.action.PACKAGE_REPLACED   Intent\n",
       "55               android.intent.action.SEND_MULTIPLE   Intent\n",
       "66                    android.intent.action.TIME_SET   Intent\n",
       "73             android.intent.action.PACKAGE_REMOVED   Intent\n",
       "74            android.intent.action.TIMEZONE_CHANGED   Intent\n",
       "81   android.intent.action.ACTION_POWER_DISCONNECTED   Intent\n",
       "82               android.intent.action.PACKAGE_ADDED   Intent\n",
       "97             android.intent.action.ACTION_SHUTDOWN   Intent\n",
       "107       android.intent.action.PACKAGE_DATA_CLEARED   Intent\n",
       "117            android.intent.action.PACKAGE_CHANGED   Intent\n",
       "118          android.intent.action.NEW_OUTGOING_CALL   Intent\n",
       "135                     android.intent.action.SENDTO   Intent\n",
       "150                       android.intent.action.CALL   Intent\n",
       "157                  android.intent.action.SCREEN_ON   Intent\n",
       "161               android.intent.action.BATTERY_OKAY   Intent\n",
       "174          android.intent.action.PACKAGE_RESTARTED   Intent\n",
       "178                android.intent.action.CALL_BUTTON   Intent\n",
       "179                 android.intent.action.SCREEN_OFF   Intent\n",
       "185                                intent.action.RUN   Intent\n",
       "186              android.intent.action.SET_WALLPAPER   Intent\n",
       "194                android.intent.action.BATTERY_LOW   Intent\n",
       "197     android.intent.action.ACTION_POWER_CONNECTED   Intent"
      ]
     },
     "execution_count": 5,
     "metadata": {},
     "output_type": "execute_result"
    }
   ],
   "source": [
    "features[features[\"Category\"] == \"Intent\"]"
   ]
  },
  {
   "cell_type": "code",
   "execution_count": 6,
   "id": "1e4ca42a-1bc8-4230-bf26-24726a586f4e",
   "metadata": {},
   "outputs": [
    {
     "data": {
      "text/html": [
       "<div>\n",
       "<style scoped>\n",
       "    .dataframe tbody tr th:only-of-type {\n",
       "        vertical-align: middle;\n",
       "    }\n",
       "\n",
       "    .dataframe tbody tr th {\n",
       "        vertical-align: top;\n",
       "    }\n",
       "\n",
       "    .dataframe thead th {\n",
       "        text-align: right;\n",
       "    }\n",
       "</style>\n",
       "<table border=\"1\" class=\"dataframe\">\n",
       "  <thead>\n",
       "    <tr style=\"text-align: right;\">\n",
       "      <th></th>\n",
       "      <th>X</th>\n",
       "      <th>Category</th>\n",
       "    </tr>\n",
       "  </thead>\n",
       "  <tbody>\n",
       "    <tr>\n",
       "      <th>44</th>\n",
       "      <td>mount</td>\n",
       "      <td>Commands signature</td>\n",
       "    </tr>\n",
       "    <tr>\n",
       "      <th>79</th>\n",
       "      <td>chmod</td>\n",
       "      <td>Commands signature</td>\n",
       "    </tr>\n",
       "    <tr>\n",
       "      <th>96</th>\n",
       "      <td>remount</td>\n",
       "      <td>Commands signature</td>\n",
       "    </tr>\n",
       "    <tr>\n",
       "      <th>100</th>\n",
       "      <td>chown</td>\n",
       "      <td>Commands signature</td>\n",
       "    </tr>\n",
       "    <tr>\n",
       "      <th>141</th>\n",
       "      <td>/system/bin</td>\n",
       "      <td>Commands signature</td>\n",
       "    </tr>\n",
       "    <tr>\n",
       "      <th>149</th>\n",
       "      <td>/system/app</td>\n",
       "      <td>Commands signature</td>\n",
       "    </tr>\n",
       "  </tbody>\n",
       "</table>\n",
       "</div>"
      ],
      "text/plain": [
       "               X            Category\n",
       "44         mount  Commands signature\n",
       "79         chmod  Commands signature\n",
       "96       remount  Commands signature\n",
       "100        chown  Commands signature\n",
       "141  /system/bin  Commands signature\n",
       "149  /system/app  Commands signature"
      ]
     },
     "execution_count": 6,
     "metadata": {},
     "output_type": "execute_result"
    }
   ],
   "source": [
    "features[features[\"Category\"] == \"Commands signature\"]"
   ]
  },
  {
   "cell_type": "code",
   "execution_count": 7,
   "id": "feda1a15-8401-4f58-a7cc-ad850bfbf6a3",
   "metadata": {},
   "outputs": [
    {
     "data": {
      "text/plain": [
       "(216, 2)"
      ]
     },
     "execution_count": 7,
     "metadata": {},
     "output_type": "execute_result"
    }
   ],
   "source": [
    "features.shape"
   ]
  },
  {
   "cell_type": "code",
   "execution_count": 8,
   "id": "b79cf76d-82ca-4b1c-8973-3a18d4b4ed8d",
   "metadata": {},
   "outputs": [],
   "source": [
    "permissions_list = features[features[\"Category\"] == \"Manifest Permission\"].X.unique()"
   ]
  },
  {
   "cell_type": "code",
   "execution_count": 9,
   "id": "c7ff8910-42fb-4491-a51d-621ef10a5517",
   "metadata": {},
   "outputs": [
    {
     "data": {
      "text/plain": [
       "array(['SEND_SMS', 'READ_PHONE_STATE', 'GET_ACCOUNTS', 'RECEIVE_SMS',\n",
       "       'READ_SMS', 'USE_CREDENTIALS', 'MANAGE_ACCOUNTS', 'WRITE_SMS',\n",
       "       'READ_SYNC_SETTINGS', 'AUTHENTICATE_ACCOUNTS',\n",
       "       'WRITE_HISTORY_BOOKMARKS', 'INSTALL_PACKAGES', 'CAMERA',\n",
       "       'WRITE_SYNC_SETTINGS', 'READ_HISTORY_BOOKMARKS', 'INTERNET',\n",
       "       'RECORD_AUDIO', 'NFC', 'ACCESS_LOCATION_EXTRA_COMMANDS',\n",
       "       'WRITE_APN_SETTINGS', 'BIND_REMOTEVIEWS', 'READ_PROFILE',\n",
       "       'MODIFY_AUDIO_SETTINGS', 'READ_SYNC_STATS', 'BROADCAST_STICKY',\n",
       "       'WAKE_LOCK', 'RECEIVE_BOOT_COMPLETED', 'RESTART_PACKAGES',\n",
       "       'BLUETOOTH', 'READ_CALENDAR', 'READ_CALL_LOG',\n",
       "       'SUBSCRIBED_FEEDS_WRITE', 'READ_EXTERNAL_STORAGE', 'VIBRATE',\n",
       "       'ACCESS_NETWORK_STATE', 'SUBSCRIBED_FEEDS_READ',\n",
       "       'CHANGE_WIFI_MULTICAST_STATE', 'WRITE_CALENDAR', 'MASTER_CLEAR',\n",
       "       'UPDATE_DEVICE_STATS', 'WRITE_CALL_LOG', 'DELETE_PACKAGES',\n",
       "       'GET_TASKS', 'GLOBAL_SEARCH', 'DELETE_CACHE_FILES',\n",
       "       'WRITE_USER_DICTIONARY', 'REORDER_TASKS', 'WRITE_PROFILE',\n",
       "       'SET_WALLPAPER', 'BIND_INPUT_METHOD', 'READ_SOCIAL_STREAM',\n",
       "       'READ_USER_DICTIONARY', 'PROCESS_OUTGOING_CALLS',\n",
       "       'CALL_PRIVILEGED', 'BIND_WALLPAPER', 'RECEIVE_WAP_PUSH', 'DUMP',\n",
       "       'BATTERY_STATS', 'ACCESS_COARSE_LOCATION', 'SET_TIME',\n",
       "       'WRITE_SOCIAL_STREAM', 'WRITE_SETTINGS', 'REBOOT',\n",
       "       'BLUETOOTH_ADMIN', 'BIND_DEVICE_ADMIN', 'WRITE_GSERVICES',\n",
       "       'KILL_BACKGROUND_PROCESSES', 'STATUS_BAR', 'PERSISTENT_ACTIVITY',\n",
       "       'CHANGE_NETWORK_STATE', 'RECEIVE_MMS', 'SET_TIME_ZONE',\n",
       "       'CONTROL_LOCATION_UPDATES', 'BROADCAST_WAP_PUSH',\n",
       "       'BIND_ACCESSIBILITY_SERVICE', 'ADD_VOICEMAIL', 'CALL_PHONE',\n",
       "       'BIND_APPWIDGET', 'FLASHLIGHT', 'READ_LOGS', 'SET_PROCESS_LIMIT',\n",
       "       'MOUNT_UNMOUNT_FILESYSTEMS', 'BIND_TEXT_SERVICE',\n",
       "       'INSTALL_LOCATION_PROVIDER', 'SYSTEM_ALERT_WINDOW',\n",
       "       'MOUNT_FORMAT_FILESYSTEMS', 'CHANGE_CONFIGURATION',\n",
       "       'CLEAR_APP_USER_DATA', 'CHANGE_WIFI_STATE', 'READ_FRAME_BUFFER',\n",
       "       'ACCESS_SURFACE_FLINGER', 'BROADCAST_SMS', 'EXPAND_STATUS_BAR',\n",
       "       'INTERNAL_SYSTEM_WINDOW', 'SET_ACTIVITY_WATCHER', 'WRITE_CONTACTS',\n",
       "       'BIND_VPN_SERVICE', 'DISABLE_KEYGUARD', 'ACCESS_MOCK_LOCATION',\n",
       "       'GET_PACKAGE_SIZE', 'MODIFY_PHONE_STATE',\n",
       "       'CHANGE_COMPONENT_ENABLED_STATE', 'CLEAR_APP_CACHE',\n",
       "       'SET_ORIENTATION', 'READ_CONTACTS', 'DEVICE_POWER',\n",
       "       'HARDWARE_TEST', 'ACCESS_WIFI_STATE', 'WRITE_EXTERNAL_STORAGE',\n",
       "       'ACCESS_FINE_LOCATION', 'SET_WALLPAPER_HINTS',\n",
       "       'SET_PREFERRED_APPLICATIONS', 'WRITE_SECURE_SETTINGS'],\n",
       "      dtype=object)"
      ]
     },
     "execution_count": 9,
     "metadata": {},
     "output_type": "execute_result"
    }
   ],
   "source": [
    "permissions_list"
   ]
  },
  {
   "cell_type": "code",
   "execution_count": 10,
   "id": "70574797-3f91-4702-935c-1f6ec440925e",
   "metadata": {},
   "outputs": [
    {
     "data": {
      "text/plain": [
       "(113,)"
      ]
     },
     "execution_count": 10,
     "metadata": {},
     "output_type": "execute_result"
    }
   ],
   "source": [
    "permissions_list.shape"
   ]
  },
  {
   "cell_type": "code",
   "execution_count": 11,
   "id": "ad70e103-f843-4c81-824d-8da7f31469aa",
   "metadata": {},
   "outputs": [],
   "source": [
    "api_call_signatures = features[features[\"Category\"] == \"API call signature\"].X.unique()"
   ]
  },
  {
   "cell_type": "code",
   "execution_count": 12,
   "id": "b7470d76-4afe-43a8-8f6d-c8d62647a4fa",
   "metadata": {},
   "outputs": [
    {
     "data": {
      "text/plain": [
       "array(['transact', 'onServiceConnected', 'bindService', 'attachInterface',\n",
       "       'ServiceConnection', 'android.os.Binder',\n",
       "       'Ljava.lang.Class.getCanonicalName', 'Ljava.lang.Class.getMethods',\n",
       "       'Ljava.lang.Class.cast', 'Ljava.net.URLDecoder',\n",
       "       'android.content.pm.Signature', 'android.telephony.SmsManager',\n",
       "       'getBinder', 'ClassLoader',\n",
       "       'Landroid.content.Context.registerReceiver',\n",
       "       'Ljava.lang.Class.getField',\n",
       "       'Landroid.content.Context.unregisterReceiver',\n",
       "       'Ljava.lang.Class.getDeclaredField', 'getCallingUid',\n",
       "       'Ljavax.crypto.spec.SecretKeySpec',\n",
       "       'android.content.pm.PackageInfo', 'KeySpec',\n",
       "       'TelephonyManager.getLine1Number', 'DexClassLoader',\n",
       "       'HttpGet.init', 'SecretKey', 'Ljava.lang.Class.getMethod',\n",
       "       'System.loadLibrary', 'android.intent.action.SEND',\n",
       "       'Ljavax.crypto.Cipher', 'android.telephony.gsm.SmsManager',\n",
       "       'TelephonyManager.getSubscriberId', 'Runtime.getRuntime',\n",
       "       'Ljava.lang.Object.getClass', 'Ljava.lang.Class.forName', 'Binder',\n",
       "       'IBinder', 'android.os.IBinder', 'createSubprocess',\n",
       "       'URLClassLoader', 'abortBroadcast', 'TelephonyManager.getDeviceId',\n",
       "       'getCallingPid', 'Ljava.lang.Class.getPackage',\n",
       "       'Ljava.lang.Class.getDeclaredClasses', 'PathClassLoader',\n",
       "       'TelephonyManager.getSimSerialNumber', 'Runtime.load',\n",
       "       'TelephonyManager.getCallState',\n",
       "       'TelephonyManager.getSimCountryIso', 'sendMultipartTextMessage',\n",
       "       'PackageInstaller', 'sendDataMessage', 'HttpPost.init',\n",
       "       'Ljava.lang.Class.getClasses', 'TelephonyManager.isNetworkRoaming',\n",
       "       'HttpUriRequest', 'divideMessage', 'Runtime.exec',\n",
       "       'TelephonyManager.getNetworkOperator', 'MessengerService',\n",
       "       'IRemoteService', 'SET_ALARM', 'ACCOUNT_MANAGER',\n",
       "       'TelephonyManager.getSimOperator', 'onBind', 'Process.start',\n",
       "       'Context.bindService', 'ProcessBuilder',\n",
       "       'Ljava.lang.Class.getResource', 'defineClass', 'findClass',\n",
       "       'Runtime.loadLibrary'], dtype=object)"
      ]
     },
     "execution_count": 12,
     "metadata": {},
     "output_type": "execute_result"
    }
   ],
   "source": [
    "api_call_signatures"
   ]
  },
  {
   "cell_type": "code",
   "execution_count": 13,
   "id": "40ee81b5-3684-47c1-be5e-171ec7331049",
   "metadata": {},
   "outputs": [
    {
     "data": {
      "text/plain": [
       "(73,)"
      ]
     },
     "execution_count": 13,
     "metadata": {},
     "output_type": "execute_result"
    }
   ],
   "source": [
    "api_call_signatures.shape"
   ]
  },
  {
   "cell_type": "code",
   "execution_count": 14,
   "id": "fcbf64bd-461a-4d14-b25a-229ff57feb7d",
   "metadata": {},
   "outputs": [
    {
     "name": "stderr",
     "output_type": "stream",
     "text": [
      "/tmp/ipykernel_8696/1373337510.py:1: DtypeWarning: Columns (92) have mixed types. Specify dtype option on import or set low_memory=False.\n",
      "  df = pd.read_csv(\"../dataset/drebin-215-dataset-5560malware-9476-benign.csv\")\n"
     ]
    }
   ],
   "source": [
    "df = pd.read_csv(\"../dataset/drebin-215-dataset-5560malware-9476-benign.csv\")"
   ]
  },
  {
   "cell_type": "code",
   "execution_count": 15,
   "id": "870c6570-f27a-4337-8735-3417f805e608",
   "metadata": {},
   "outputs": [
    {
     "data": {
      "text/plain": [
       "(15036, 216)"
      ]
     },
     "execution_count": 15,
     "metadata": {},
     "output_type": "execute_result"
    }
   ],
   "source": [
    "df.shape"
   ]
  },
  {
   "cell_type": "code",
   "execution_count": 43,
   "id": "efd20319-891c-4120-a05c-a3fefc4995ed",
   "metadata": {},
   "outputs": [],
   "source": [
    "apk_file_path = \"/home/alper/İndirilenler/InsecureBankv2.apk\""
   ]
  },
  {
   "cell_type": "code",
   "execution_count": 44,
   "id": "0f822cc4-c2aa-48c6-8ea8-5f60ec2a3a09",
   "metadata": {},
   "outputs": [],
   "source": [
    "a = APK(apk_file_path)\n",
    "d = DalvikVMFormat(a.get_dex())"
   ]
  },
  {
   "cell_type": "code",
   "execution_count": 45,
   "id": "81207df8-21d0-4c9c-81fa-c54a14793251",
   "metadata": {},
   "outputs": [],
   "source": [
    "found_api_signatures = []\n",
    "\n",
    "for method in d.get_methods():\n",
    "    for api_call in api_call_signatures:\n",
    "        if re.search(api_call, method.get_descriptor()):\n",
    "            #print(\"[+]\", perm, \" found.\")\n",
    "            found_api_signatures.append(api_call)"
   ]
  },
  {
   "cell_type": "code",
   "execution_count": 46,
   "id": "770f6882-94a9-4302-a440-dafb65a73355",
   "metadata": {},
   "outputs": [
    {
     "data": {
      "text/plain": [
       "{'Binder',\n",
       " 'ClassLoader',\n",
       " 'HttpUriRequest',\n",
       " 'IBinder',\n",
       " 'ServiceConnection',\n",
       " 'android.content.pm.PackageInfo',\n",
       " 'android.os.IBinder'}"
      ]
     },
     "execution_count": 46,
     "metadata": {},
     "output_type": "execute_result"
    }
   ],
   "source": [
    "set(found_api_signatures)"
   ]
  },
  {
   "cell_type": "code",
   "execution_count": 47,
   "id": "de222297-b258-4178-8537-e2cc003baf79",
   "metadata": {},
   "outputs": [],
   "source": [
    "permissions = a.get_permissions()"
   ]
  },
  {
   "cell_type": "code",
   "execution_count": 50,
   "id": "3c804e54-6763-45e3-90d9-43360766811c",
   "metadata": {},
   "outputs": [],
   "source": [
    "found_permissions = []\n",
    "\n",
    "for permission in permissions:\n",
    "    permission = permission.split(\".\")[-1]\n",
    "    if permission in permissions_list:\n",
    "        found_permissions.append(permission)"
   ]
  },
  {
   "cell_type": "code",
   "execution_count": 51,
   "id": "ece1a84c-4aea-4727-af90-bdcb6c9b13ab",
   "metadata": {},
   "outputs": [
    {
     "data": {
      "text/plain": [
       "['ACCESS_NETWORK_STATE',\n",
       " 'ACCESS_COARSE_LOCATION',\n",
       " 'READ_PROFILE',\n",
       " 'WRITE_EXTERNAL_STORAGE',\n",
       " 'GET_ACCOUNTS',\n",
       " 'READ_CONTACTS',\n",
       " 'INTERNET',\n",
       " 'SEND_SMS',\n",
       " 'USE_CREDENTIALS']"
      ]
     },
     "execution_count": 51,
     "metadata": {},
     "output_type": "execute_result"
    }
   ],
   "source": [
    "found_permissions"
   ]
  },
  {
   "cell_type": "code",
   "execution_count": 40,
   "id": "190cc0eb-561d-418c-82d3-b252b4ee1301",
   "metadata": {},
   "outputs": [],
   "source": [
    "intents = features[features[\"Category\"] == \"Intent\"].X.unique()"
   ]
  },
  {
   "cell_type": "code",
   "execution_count": 52,
   "id": "516d1ce9-b812-425f-8787-5e0373f77cdd",
   "metadata": {},
   "outputs": [],
   "source": [
    "manifest = a.get_android_manifest_xml()\n",
    "intent_filters = manifest.findall(\".//intent-filter\")\n",
    "found_intents = []\n",
    "for intent_filter in intent_filters:\n",
    "    action_elements = intent_filter.findall(\".//action\")\n",
    "    for action_element in action_elements:\n",
    "        action_value = action_element.get(\"{http://schemas.android.com/apk/res/android}name\")\n",
    "        for intent in intents:\n",
    "            if re.search(intent, action_value):\n",
    "                print(action_value)"
   ]
  },
  {
   "cell_type": "code",
   "execution_count": 53,
   "id": "1edf7ab9-695e-474a-9fd2-9fd89d41e1a7",
   "metadata": {},
   "outputs": [
    {
     "data": {
      "text/plain": [
       "[]"
      ]
     },
     "execution_count": 53,
     "metadata": {},
     "output_type": "execute_result"
    }
   ],
   "source": [
    "found_intents"
   ]
  },
  {
   "cell_type": "code",
   "execution_count": 59,
   "id": "7b27fef3-ea21-4fa7-b7f6-4f48ce94e510",
   "metadata": {},
   "outputs": [],
   "source": [
    "keywords = [\"mount\", \"/system/bin\", \"/system/app\", \"chmod\", \"remount\", \"chown\"]\n",
    "found_keywords = []\n",
    "\n",
    "for method in d.get_methods():\n",
    "    for keyword in keywords:\n",
    "        try:\n",
    "            if re.search(keyword, method.get_code().get_instruction()):\n",
    "                found_keywords.append(keyword)\n",
    "        except:\n",
    "            pass"
   ]
  },
  {
   "cell_type": "code",
   "execution_count": 60,
   "id": "3ba22e77-a903-4415-a5c5-488c1bd12874",
   "metadata": {},
   "outputs": [
    {
     "data": {
      "text/plain": [
       "[]"
      ]
     },
     "execution_count": 60,
     "metadata": {},
     "output_type": "execute_result"
    }
   ],
   "source": [
    "found_keywords"
   ]
  },
  {
   "cell_type": "code",
   "execution_count": null,
   "id": "645debca-d7b8-406d-90c1-7a594929bb69",
   "metadata": {},
   "outputs": [],
   "source": []
  }
 ],
 "metadata": {
  "kernelspec": {
   "display_name": "Python 3 (ipykernel)",
   "language": "python",
   "name": "python3"
  },
  "language_info": {
   "codemirror_mode": {
    "name": "ipython",
    "version": 3
   },
   "file_extension": ".py",
   "mimetype": "text/x-python",
   "name": "python",
   "nbconvert_exporter": "python",
   "pygments_lexer": "ipython3",
   "version": "3.10.12"
  }
 },
 "nbformat": 4,
 "nbformat_minor": 5
}
